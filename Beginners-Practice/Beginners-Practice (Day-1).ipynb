{
 "cells": [
  {
   "cell_type": "markdown",
   "id": "1c764fe5",
   "metadata": {},
   "source": [
    "# 1. Two Sum"
   ]
  },
  {
   "cell_type": "markdown",
   "id": "790038d8",
   "metadata": {},
   "source": [
    "Given an array of integers nums and an integer target, return indices of the two numbers such that they add up to target.\n",
    "\n",
    "You may assume that each input would have exactly one solution, and you may not use the same element twice.\n",
    "\n",
    "You can return the answer in any order.\n",
    "\n",
    " \n",
    "\n",
    "Example 1:\n",
    "\n",
    "Input: nums = [2,7,11,15], target = 9\n",
    "Output: [0,1]\n",
    "Explanation: Because nums[0] + nums[1] == 9, we return [0, 1].\n",
    "Example 2:\n",
    "\n",
    "Input: nums = [3,2,4], target = 6\n",
    "Output: [1,2]\n",
    "Example 3:\n",
    "\n",
    "Input: nums = [3,3], target = 6\n",
    "Output: [0,1]"
   ]
  },
  {
   "cell_type": "code",
   "execution_count": 3,
   "id": "4f0cf594",
   "metadata": {},
   "outputs": [
    {
     "name": "stdout",
     "output_type": "stream",
     "text": [
      "[0, 1]\n"
     ]
    }
   ],
   "source": [
    "class Solution:\n",
    "    def twoSum(self, nums, target):\n",
    "        hashmap = {}\n",
    "        for i, num in enumerate(nums):\n",
    "            diff = target - num\n",
    "            if diff in hashmap:\n",
    "                return [hashmap[diff], i]\n",
    "            hashmap[num] = i\n",
    "\n",
    "# Example usage:\n",
    "sol = Solution()\n",
    "result = sol.twoSum([2, 7, 11, 15], 9)\n",
    "print(result)\n"
   ]
  },
  {
   "cell_type": "markdown",
   "id": "2101cd1d",
   "metadata": {},
   "source": [
    "# 2.Palindrome Number"
   ]
  },
  {
   "cell_type": "markdown",
   "id": "e074c272",
   "metadata": {},
   "source": [
    "Given an integer x, return true if x is a palindrome, and false otherwise.\n",
    "\n",
    " \n",
    "\n",
    "Example 1:\n",
    "\n",
    "Input: x = 121\n",
    "Output: true\n",
    "Explanation: 121 reads as 121 from left to right and from right to left.\n",
    "Example 2:\n",
    "\n",
    "Input: x = -121\n",
    "Output: false\n",
    "Explanation: From left to right, it reads -121. From right to left, it becomes 121-. Therefore it is not a palindrome.\n",
    "Example 3:\n",
    "\n",
    "Input: x = 10\n",
    "Output: false\n",
    "Explanation: Reads 01 from right to left. Therefore it is not a palindrome.\n",
    " \n",
    "\n",
    "Constraints:\n",
    "\n",
    "-231 <= x <= 231 - 1"
   ]
  },
  {
   "cell_type": "code",
   "execution_count": 1,
   "id": "ed81eecb",
   "metadata": {},
   "outputs": [
    {
     "name": "stdout",
     "output_type": "stream",
     "text": [
      "True\n",
      "False\n",
      "False\n"
     ]
    }
   ],
   "source": [
    "class Solution:\n",
    "    def isPalindrome(self, x: int) -> bool:\n",
    "        # Negative numbers are not palindrome\n",
    "        if x < 0:\n",
    "            return False\n",
    "        # Convert number to string and compare with its reverse\n",
    "        return str(x) == str(x)[::-1]\n",
    "\n",
    "# Sample usage\n",
    "sol = Solution()\n",
    "\n",
    "# Test cases\n",
    "print(sol.isPalindrome(121))    # Output: True\n",
    "print(sol.isPalindrome(-121))   # Output: False\n",
    "print(sol.isPalindrome(10))     # Output: False\n"
   ]
  },
  {
   "cell_type": "markdown",
   "id": "a8398167",
   "metadata": {},
   "source": [
    "# 3. Roman to interger"
   ]
  },
  {
   "cell_type": "markdown",
   "id": "f04e50db",
   "metadata": {},
   "source": [
    "Roman numerals are represented by seven different symbols: I, V, X, L, C, D and M.\n",
    "\n",
    "Symbol       Value\n",
    "I             1\n",
    "V             5\n",
    "X             10\n",
    "L             50\n",
    "C             100\n",
    "D             500\n",
    "M             1000\n",
    "For example, 2 is written as II in Roman numeral, just two ones added together. 12 is written as XII, which is simply X + II. The number 27 is written as XXVII, which is XX + V + II.\n",
    "\n",
    "Roman numerals are usually written largest to smallest from left to right. However, the numeral for four is not IIII. Instead, the number four is written as IV. Because the one is before the five we subtract it making four. The same principle applies to the number nine, which is written as IX. There are six instances where subtraction is used:\n",
    "\n",
    "I can be placed before V (5) and X (10) to make 4 and 9. \n",
    "X can be placed before L (50) and C (100) to make 40 and 90. \n",
    "C can be placed before D (500) and M (1000) to make 400 and 900.\n",
    "Given a roman numeral, convert it to an integer.\n",
    "\n",
    " \n",
    "\n",
    "Example 1:\n",
    "\n",
    "Input: s = \"III\"\n",
    "Output: 3\n",
    "Explanation: III = 3.\n",
    "Example 2:\n",
    "\n",
    "Input: s = \"LVIII\"\n",
    "Output: 58\n",
    "Explanation: L = 50, V= 5, III = 3.\n",
    "Example 3:\n",
    "\n",
    "Input: s = \"MCMXCIV\"\n",
    "Output: 1994\n",
    "Explanation: M = 1000, CM = 900, XC = 90 and IV = 4.\n",
    " \n",
    "\n",
    "Constraints:\n",
    "\n",
    "1 <= s.length <= 15\n",
    "s contains only the characters ('I', 'V', 'X', 'L', 'C', 'D', 'M').\n",
    "It is guaranteed that s is a valid roman numeral in the range [1, 3999]."
   ]
  },
  {
   "cell_type": "code",
   "execution_count": 2,
   "id": "ae86f0d3",
   "metadata": {},
   "outputs": [
    {
     "name": "stdout",
     "output_type": "stream",
     "text": [
      "1994\n"
     ]
    }
   ],
   "source": [
    "# Your class definition\n",
    "class Solution:\n",
    "    def romanToInt(self, s: str) -> int:\n",
    "        roman = {\n",
    "            'I': 1,\n",
    "            'V': 5,\n",
    "            'X': 10,\n",
    "            'L': 50,\n",
    "            'C': 100,\n",
    "            'D': 500,\n",
    "            'M': 1000\n",
    "        }\n",
    "        \n",
    "        total = 0\n",
    "        prev_value = 0\n",
    "\n",
    "        for ch in reversed(s):  # Iterate from right to left\n",
    "            value = roman[ch]\n",
    "            if value < prev_value:\n",
    "                total -= value\n",
    "            else:\n",
    "                total += value\n",
    "                prev_value = value\n",
    "\n",
    "        return total\n",
    "\n",
    "# Create an object and call the method\n",
    "solution = Solution()\n",
    "print(solution.romanToInt(\"MCMXCIV\"))  # Example: \"MCMXCIV\" = 1994\n"
   ]
  },
  {
   "cell_type": "markdown",
   "id": "0548eade",
   "metadata": {},
   "source": [
    "# 4.Logest Common Prefix"
   ]
  },
  {
   "cell_type": "markdown",
   "id": "97609598",
   "metadata": {},
   "source": [
    "Write a function to find the longest common prefix string amongst an array of strings.\n",
    "\n",
    "If there is no common prefix, return an empty string \"\".\n",
    "\n",
    " \n",
    "\n",
    "Example 1:\n",
    "\n",
    "Input: strs = [\"flower\",\"flow\",\"flight\"]\n",
    "Output: \"fl\"\n",
    "Example 2:\n",
    "\n",
    "Input: strs = [\"dog\",\"racecar\",\"car\"]\n",
    "Output: \"\"\n",
    "Explanation: There is no common prefix among the input strings.\n",
    " \n",
    "\n",
    "Constraints:\n",
    "\n",
    "1 <= strs.length <= 200\n",
    "0 <= strs[i].length <= 200\n",
    "strs[i] consists of only lowercase English letters if it is non-empty."
   ]
  },
  {
   "cell_type": "code",
   "execution_count": 3,
   "id": "fd24455c",
   "metadata": {},
   "outputs": [
    {
     "name": "stdout",
     "output_type": "stream",
     "text": [
      "fl\n"
     ]
    }
   ],
   "source": [
    "class Solution:\n",
    "    def longestCommonPrefix(self, strs: list[str]) -> str:\n",
    "        if not strs:\n",
    "            return \"\"\n",
    "\n",
    "        # Start with the first string as the prefix\n",
    "        prefix = strs[0]\n",
    "\n",
    "        for word in strs[1:]:\n",
    "            while not word.startswith(prefix):\n",
    "                prefix = prefix[:-1]\n",
    "                if prefix == \"\":\n",
    "                    return \"\"\n",
    "\n",
    "        return prefix\n",
    "\n",
    "# Example usage\n",
    "solution = Solution()\n",
    "print(solution.longestCommonPrefix([\"flower\", \"flow\", \"flight\"]))  # Output: \"fl\"\n"
   ]
  },
  {
   "cell_type": "markdown",
   "id": "b0143b9f",
   "metadata": {},
   "source": [
    "# 5.Vaild Parenthese"
   ]
  },
  {
   "cell_type": "markdown",
   "id": "a863332a",
   "metadata": {},
   "source": [
    "Given a string s containing just the characters '(', ')', '{', '}', '[' and ']', determine if the input string is valid.\n",
    "\n",
    "An input string is valid if:\n",
    "\n",
    "Open brackets must be closed by the same type of brackets.\n",
    "Open brackets must be closed in the correct order.\n",
    "Every close bracket has a corresponding open bracket of the same type.\n",
    " \n",
    "\n",
    "Example 1:\n",
    "\n",
    "Input: s = \"()\"\n",
    "\n",
    "Output: true\n",
    "\n",
    "Example 2:\n",
    "\n",
    "Input: s = \"()[]{}\"\n",
    "\n",
    "Output: true\n",
    "\n",
    "Example 3:\n",
    "\n",
    "Input: s = \"(]\"\n",
    "\n",
    "Output: false\n",
    "\n",
    "Example 4:\n",
    "\n",
    "Input: s = \"([])\"\n",
    "\n",
    "Output: true\n",
    "\n",
    " \n",
    "\n",
    "Constraints:\n",
    "\n",
    "1 <= s.length <= 104\n",
    "s consists of parentheses only '()[]{}'."
   ]
  },
  {
   "cell_type": "code",
   "execution_count": 4,
   "id": "3fa0c2c5",
   "metadata": {},
   "outputs": [
    {
     "name": "stdout",
     "output_type": "stream",
     "text": [
      "True\n",
      "True\n",
      "False\n",
      "True\n"
     ]
    }
   ],
   "source": [
    "class Solution:\n",
    "    def isValid(self, s: str) -> bool:\n",
    "        stack = []\n",
    "        bracket_map = {')': '(', '}': '{', ']': '['}\n",
    "\n",
    "        for char in s:\n",
    "            if char in bracket_map.values():  # If it's an opening bracket\n",
    "                stack.append(char)\n",
    "            elif char in bracket_map:  # If it's a closing bracket\n",
    "                if not stack or stack[-1] != bracket_map[char]:\n",
    "                    return False\n",
    "                stack.pop()\n",
    "            else:\n",
    "                return False  # Invalid character (not needed for this problem)\n",
    "\n",
    "        return len(stack) == 0\n",
    "\n",
    "# Example test cases\n",
    "solution = Solution()\n",
    "print(solution.isValid(\"()\"))        # Output: True\n",
    "print(solution.isValid(\"()[]{}\"))    # Output: True\n",
    "print(solution.isValid(\"(]\"))        # Output: False\n",
    "print(solution.isValid(\"([])\"))      # Output: True\n"
   ]
  },
  {
   "cell_type": "code",
   "execution_count": null,
   "id": "02d065bb",
   "metadata": {},
   "outputs": [],
   "source": []
  }
 ],
 "metadata": {
  "kernelspec": {
   "display_name": "Python 3 (ipykernel)",
   "language": "python",
   "name": "python3"
  },
  "language_info": {
   "codemirror_mode": {
    "name": "ipython",
    "version": 3
   },
   "file_extension": ".py",
   "mimetype": "text/x-python",
   "name": "python",
   "nbconvert_exporter": "python",
   "pygments_lexer": "ipython3",
   "version": "3.9.12"
  }
 },
 "nbformat": 4,
 "nbformat_minor": 5
}
